{
 "cells": [
  {
   "cell_type": "markdown",
   "metadata": {
    "deletable": true,
    "editable": true
   },
   "source": [
    "## Quantified Self : Analyzing Personal Garmin Data (2012-2017)"
   ]
  },
  {
   "cell_type": "markdown",
   "metadata": {
    "deletable": true,
    "editable": true
   },
   "source": [
    "### Insights into my fitness journey over the last 5 years\n",
    "\n",
    "I have been an avid runner for the past 4 years, and what has been a fun part of all those is how much we can learn about ourselves from exploring the data we capture.\n",
    "\n",
    "I started capturing data about myself around the year 2012, which was when we saw the advent of wearable devices, and have always wanted to carry out an analysis to gain insights about my running patterns, my strength training schedules, my diet logs and any other metadata which I can collect about myself like the Heart Rate, Cadence for runs and also the step counts.\n",
    "\n",
    "About **[Quantified Self](http://quantifiedself.com/)** : When learning about the ways to explore about the data you capture, I came across the term Quantified Self and have been following the blog ever since. Its just amazing how capturing and analyzing data about yourself can actually help me make data driven decision to improve your lifestyle and so many people are joining this movement and bringing a data-driven change for improving their lives.\n",
    "\n",
    "** Questions which I would like to answer in my project analysis are as follows : **\n",
    "\n",
    "* How much time have I spent on various activities like Running, Treadmill Running, Strength Training Sessions and Cardio Sessions?\n",
    "* How many calories have I burnt in total for every activity and try and predict about myself that doing a specific activity, how many caloried can I burn in the future?\n",
    "* An activity time vs calorie analysis for every specific activity type, which can help me make better decisions for choosing an activity based on the time I have?\n",
    "* What is the time of the day that I usually do the activities and how has it changed over the past 5 years? It will help me relive the changes that have happened in my life and how they have affected my schedules.\n",
    "* How does the running mileage change for the marathon seasons, as compared to off-season when we are mostly getting the body into the best shape for the running season?\n",
    "* Analyzing trends about all the long distance runs (>15 kms), specifically, the average speed during the runs, the average heart rate etc.\n",
    "* It has always been known that runners have lower heart rates as opposed to a normal person, evaluating this hypothesis using external data about myself.\n",
    "* Which particular year has been the most exhaustive in terms of the calories burnt, the number of miles run, and the amount of time I did some physical activity?\n",
    "\n",
    "I do take inspiration from the [Quantified Self Running archives](http://quantifiedself.com/running/) and will try and do an analysis on all these aspects about my data.\n",
    "\n",
    "** Where the reader can find the data? **\n",
    "I would like to share the data captured about all my activities if someone wants to analyze it, but as the data is about myself, I would probably not share it on a public platform. You can always mail me to get the data at ** `anujk3@gmail.com` **.\n",
    "\n",
    "** Team ** : I will be working on my dataset and gaining insights through the analysis I do."
   ]
  },
  {
   "cell_type": "markdown",
   "metadata": {
    "deletable": true,
    "editable": true
   },
   "source": [
    "### Languages Used : \n",
    "\n",
    "Something I am really passionate about is doing data analysis work and Python has been my go to language for it. Through the course Exploratory Data Analysis and Visualizations, Prof. Joyce Robbins did help me realize how even `R` can help in quickly analyzing the data and actually the best part about `R` for me was getting to learn about `ggplot`. \n",
    "\n",
    "I still prefer using Python as my language for data analysis but hacked my way to use ggplot within the Python Analysis and will be doing most of my dataframe analysis in `Python` and making plots with `ggplot`, but all within a `Python Notebook`.\n",
    "\n",
    "I will also be working on interactive visualizations using `D3.js` and whenever possible `matplotlib within Python`."
   ]
  },
  {
   "cell_type": "markdown",
   "metadata": {
    "deletable": true,
    "editable": true
   },
   "source": [
    "## Exploratory Data Analysis"
   ]
  },
  {
   "cell_type": "code",
   "execution_count": 6,
   "metadata": {
    "collapsed": false,
    "deletable": true,
    "editable": true
   },
   "outputs": [],
   "source": [
    "import pandas as pd\n",
    "import warnings\n",
    "from rpy2.robjects import pandas2ri\n",
    "pandas2ri.activate()\n",
    "warnings.filterwarnings('ignore')\n",
    "import matplotlib.pyplot as plt\n",
    "plt.rcParams[\"figure.figsize\"] = (20,3)\n",
    "%reload_ext rpy2.ipython"
   ]
  },
  {
   "cell_type": "code",
   "execution_count": 7,
   "metadata": {
    "collapsed": false,
    "deletable": true,
    "editable": true
   },
   "outputs": [
    {
     "data": {
      "text/html": [
       "\n",
       "<style>\n",
       ".output_png {\n",
       "    display: table-cell;\n",
       "    text-align: center;\n",
       "    vertical-align: middle;\n",
       "\n",
       "    }\n",
       "</style>\n"
      ],
      "text/plain": [
       "<IPython.core.display.HTML object>"
      ]
     },
     "execution_count": 7,
     "metadata": {},
     "output_type": "execute_result"
    }
   ],
   "source": [
    "from IPython.core.display import HTML\n",
    "HTML(\"\"\"\n",
    "<style>\n",
    ".output_png {\n",
    "    display: table-cell;\n",
    "    text-align: center;\n",
    "    vertical-align: middle;\n",
    "\n",
    "    }\n",
    "</style>\n",
    "\"\"\")"
   ]
  },
  {
   "cell_type": "code",
   "execution_count": 9,
   "metadata": {
    "collapsed": false,
    "deletable": true,
    "editable": true
   },
   "outputs": [],
   "source": [
    "%%R \n",
    "require(ggplot2)\n",
    "require(tidyverse)"
   ]
  },
  {
   "cell_type": "code",
   "execution_count": 10,
   "metadata": {
    "collapsed": false,
    "deletable": true,
    "editable": true
   },
   "outputs": [],
   "source": [
    "import pandas as pd\n",
    "df = pd.DataFrame({'Letter': ['a', 'a', 'a', 'b','b', 'b', 'c', 'c','c'],\n",
    "                   'X': [4, 3, 5, 2, 1, 7, 7, 5, 9],\n",
    "                   'Y': [0, 4, 3, 6, 7, 10, 11, 9, 13],\n",
    "                   'Z': [1, 2, 3, 1, 2, 3, 1, 2, 3]})"
   ]
  },
  {
   "cell_type": "code",
   "execution_count": 11,
   "metadata": {
    "collapsed": false,
    "deletable": true,
    "editable": true
   },
   "outputs": [
    {
     "data": {
      "text/html": [
       "<div>\n",
       "<table border=\"1\" class=\"dataframe\">\n",
       "  <thead>\n",
       "    <tr style=\"text-align: right;\">\n",
       "      <th></th>\n",
       "      <th>Letter</th>\n",
       "      <th>X</th>\n",
       "      <th>Y</th>\n",
       "      <th>Z</th>\n",
       "    </tr>\n",
       "  </thead>\n",
       "  <tbody>\n",
       "    <tr>\n",
       "      <th>0</th>\n",
       "      <td>a</td>\n",
       "      <td>4</td>\n",
       "      <td>0</td>\n",
       "      <td>1</td>\n",
       "    </tr>\n",
       "    <tr>\n",
       "      <th>1</th>\n",
       "      <td>a</td>\n",
       "      <td>3</td>\n",
       "      <td>4</td>\n",
       "      <td>2</td>\n",
       "    </tr>\n",
       "    <tr>\n",
       "      <th>2</th>\n",
       "      <td>a</td>\n",
       "      <td>5</td>\n",
       "      <td>3</td>\n",
       "      <td>3</td>\n",
       "    </tr>\n",
       "    <tr>\n",
       "      <th>3</th>\n",
       "      <td>b</td>\n",
       "      <td>2</td>\n",
       "      <td>6</td>\n",
       "      <td>1</td>\n",
       "    </tr>\n",
       "    <tr>\n",
       "      <th>4</th>\n",
       "      <td>b</td>\n",
       "      <td>1</td>\n",
       "      <td>7</td>\n",
       "      <td>2</td>\n",
       "    </tr>\n",
       "    <tr>\n",
       "      <th>5</th>\n",
       "      <td>b</td>\n",
       "      <td>7</td>\n",
       "      <td>10</td>\n",
       "      <td>3</td>\n",
       "    </tr>\n",
       "    <tr>\n",
       "      <th>6</th>\n",
       "      <td>c</td>\n",
       "      <td>7</td>\n",
       "      <td>11</td>\n",
       "      <td>1</td>\n",
       "    </tr>\n",
       "    <tr>\n",
       "      <th>7</th>\n",
       "      <td>c</td>\n",
       "      <td>5</td>\n",
       "      <td>9</td>\n",
       "      <td>2</td>\n",
       "    </tr>\n",
       "    <tr>\n",
       "      <th>8</th>\n",
       "      <td>c</td>\n",
       "      <td>9</td>\n",
       "      <td>13</td>\n",
       "      <td>3</td>\n",
       "    </tr>\n",
       "  </tbody>\n",
       "</table>\n",
       "</div>"
      ],
      "text/plain": [
       "  Letter  X   Y  Z\n",
       "0      a  4   0  1\n",
       "1      a  3   4  2\n",
       "2      a  5   3  3\n",
       "3      b  2   6  1\n",
       "4      b  1   7  2\n",
       "5      b  7  10  3\n",
       "6      c  7  11  1\n",
       "7      c  5   9  2\n",
       "8      c  9  13  3"
      ]
     },
     "execution_count": 11,
     "metadata": {},
     "output_type": "execute_result"
    }
   ],
   "source": [
    "df"
   ]
  },
  {
   "cell_type": "code",
   "execution_count": 14,
   "metadata": {
    "collapsed": false,
    "deletable": true,
    "editable": true
   },
   "outputs": [
    {
     "data": {
      "image/png": "[encoded data removed]"
     },
     "metadata": {},
     "output_type": "display_data"
    }
   ],
   "source": [
    "%%R -i df -w 900 -h 480 -u px\n",
    "\n",
    "library(vcd)\n",
    "library(dplyr)\n",
    "library(grid) # for gpar\n",
    "library(RColorBrewer)\n",
    "library(scales)\n",
    "library(knitr)\n",
    "\n",
    "\n",
    "require(\"vcdExtra\")\n",
    "data(\"Punishment\")\n",
    "#View(Punishment)\n",
    "mycolors <- brewer_pal(type = \"seq\")(2)\n",
    "\n",
    "vcd::mosaic(attitude ~ age + memory, data = Punishment, gp = gpar(fill = mycolors), direction = c(\"v\", \"v\", \"h\"), main = \"Attitude towards corporal punishment of children\")\n",
    "\n",
    "rm(list = ls())"
   ]
  },
  {
   "cell_type": "code",
   "execution_count": 15,
   "metadata": {
    "collapsed": false,
    "deletable": true,
    "editable": true
   },
   "outputs": [
    {
     "data": {
      "image/png": "[encoded data removed]"
     },
     "metadata": {},
     "output_type": "display_data"
    }
   ],
   "source": [
    "%%R -w 900 -h 480 -u px\n",
    "\n",
    "set.seed(5702)\n",
    "x <- rnorm(100)\n",
    "#\n",
    "ggplot(data.frame(x), aes(x, y = factor(\"N(0,1)\"))) + \n",
    "    geom_point(size = 4, color = \"green\") "
   ]
  },
  {
   "cell_type": "markdown",
   "metadata": {
    "collapsed": true,
    "deletable": true,
    "editable": true
   },
   "source": [
    "### 1. [10 points] Write a DRAFT introduction. (It will likely change by the time you submit the final project.) From the final project assignment: \n",
    "\n",
    "\"In this section, explain why you chose this topic, and the questions you are interested in studying. Include a brief description of how you found the data, and clear instructions on where the reader can find the data.\""
   ]
  },
  {
   "cell_type": "markdown",
   "metadata": {
    "deletable": true,
    "editable": true
   },
   "source": [
    "## Analyzing Personal Garmin Data (2012-2016)"
   ]
  },
  {
   "cell_type": "markdown",
   "metadata": {
    "deletable": true,
    "editable": true
   },
   "source": [
    "\n"
   ]
  },
  {
   "cell_type": "markdown",
   "metadata": {
    "collapsed": true,
    "deletable": true,
    "editable": true
   },
   "source": [
    "### [10 points] Write a DRAFT description of the Team section.\n",
    "\n",
    "\"List team members and a description of how each [WILL] contribute to the project.\""
   ]
  },
  {
   "cell_type": "code",
   "execution_count": null,
   "metadata": {
    "collapsed": true,
    "deletable": true,
    "editable": true
   },
   "outputs": [],
   "source": []
  },
  {
   "cell_type": "markdown",
   "metadata": {
    "deletable": true,
    "editable": true
   },
   "source": [
    "###  [30 points] Choose four variables that you consider to be important and begin analyzing them, following the advice in Chapter 8, sections 1 & 2, of Graphical Data Analysis with R, to begin by summarizing and plotting individual variables. Histograms and bar charts work well for this purpose, but you can use whatever techniques you find appropriate. (However, do not use graphs involving circles to communicate information. That includes pie charts, donut charts, polar coordinates, scatterplots using the size of the dots to represent quantities, and similar. We will discuss the reason for this rule in class.)\n",
    "\n",
    " \n",
    "\n"
   ]
  },
  {
   "cell_type": "code",
   "execution_count": null,
   "metadata": {
    "collapsed": true,
    "deletable": true,
    "editable": true
   },
   "outputs": [],
   "source": []
  }
 ],
 "metadata": {
  "kernelspec": {
   "display_name": "Python 3",
   "language": "python",
   "name": "python3"
  },
  "language_info": {
   "codemirror_mode": {
    "name": "ipython",
    "version": 3
   },
   "file_extension": ".py",
   "mimetype": "text/x-python",
   "name": "python",
   "nbconvert_exporter": "python",
   "pygments_lexer": "ipython3",
   "version": "3.6.1"
  }
 },
 "nbformat": 4,
 "nbformat_minor": 2
}
